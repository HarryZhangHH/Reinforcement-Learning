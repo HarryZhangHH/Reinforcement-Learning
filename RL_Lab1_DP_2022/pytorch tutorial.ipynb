{
 "cells": [
  {
   "cell_type": "code",
   "execution_count": 60,
   "metadata": {
    "collapsed": true,
    "pycharm": {
     "name": "#%%\n"
    }
   },
   "outputs": [],
   "source": [
    "import torch\n",
    "import numpy as np"
   ]
  },
  {
   "cell_type": "markdown",
   "source": [
    "# TENSOR"
   ],
   "metadata": {
    "collapsed": false,
    "pycharm": {
     "name": "#%% md\n"
    }
   }
  },
  {
   "cell_type": "code",
   "execution_count": null,
   "outputs": [],
   "source": [
    "x = torch.ones(1,2, dtype=torch.float32)\n",
    "y = torch.empty(2,2)\n",
    "a = torch.rand(2,2, dtype=torch.float32)\n",
    "z = y.add_(x)\n",
    "z = y.sub_(x)\n",
    "z = torch.mul(x,y)\n",
    "print(a[1,1].item())   # slicing\n",
    "b = a.view(-1)  # reshape\n",
    "print(b.size()) # shape\n",
    "\n",
    "c = b.numpy()\n",
    "b.add_(1)\n",
    "print(b,c)\n",
    "b = torch.from_numpy(c)\n",
    "c += 1\n",
    "print(b,c)\n",
    "\n",
    "device = torch.device(\"cpu\")\n",
    "if torch.cuda.is_available():\n",
    "    device = torch.device(\"cuda\")\n",
    "    x = x.to(device)\n",
    "    x = torch.ones(5, device=device)\n",
    "    # x.numpy() # wrong, gpu cannot handle numpy\n",
    "    x = x.to(\"cpu\").numpy()"
   ],
   "metadata": {
    "collapsed": false,
    "pycharm": {
     "name": "#%%\n"
    }
   }
  },
  {
   "cell_type": "markdown",
   "source": [
    "# GRADIENCE"
   ],
   "metadata": {
    "collapsed": false,
    "pycharm": {
     "name": "#%% md\n"
    }
   }
  },
  {
   "cell_type": "code",
   "execution_count": 57,
   "outputs": [
    {
     "name": "stdout",
     "output_type": "stream",
     "text": [
      "tensor([3., 3., 3.], grad_fn=<AddBackward0>) tensor(18., grad_fn=<MeanBackward0>)\n",
      "tensor([4., 4., 4.])\n",
      "tensor([16.0000, 16.0000,  4.1200])\n",
      "tensor([3., 3., 3., 3.])\n",
      "tensor([6., 6., 6., 6.])\n"
     ]
    }
   ],
   "source": [
    "# you need model to optimize\n",
    "x = torch.ones(3, requires_grad=True, device=device) # tell the pytorch need to calculate the gradient later in the optimization steps\n",
    "y = x + 2 # computation graph for optimization\n",
    "# first we do a forward pass and calculate the output y,\n",
    "# pytorch will automatically store a function\n",
    "# the function then use the backpropagation to get the gradients using dy/dx (backward pass).\n",
    "z = y*y*2\n",
    "z = z.mean() # it is a scalar value\n",
    "print(y, z)\n",
    "z.backward() # dz/dx -> create a vector jacobain product to get the gradients (jacobian matrix must multiply a vector, chain rule)\n",
    "print(x.grad) # print the gradients\n",
    "\n",
    "z = y*y*2 # not the scalar value\n",
    "v = torch.tensor([1,1.0,0.01], dtype=torch.float32) # give a gradient argument, vector of the same size\n",
    "z.backward(v) # grad can be implicitly created only for scalar outputs\n",
    "print(x.grad) # print the gradients\n",
    "\n",
    "# prevent pytorch checking the gradients: 3 ways\n",
    "# x.requires_grad_(False)\n",
    "# x.detach()  # create a new tensor with the same value without gradient\n",
    "# with torch.no_grad():\n",
    "\n",
    "weights = torch.ones(4, requires_grad=True)\n",
    "for epoch in range(2):\n",
    "    model_output = (weights*3).sum()\n",
    "    model_output.backward() # will accumulate the gradients\n",
    "    print(weights.grad)\n",
    "    # weights.grad.zero_() # empty the gradient\n",
    "\n",
    "# optimizer = torch.optim.SGD(weights, lr=0.01)\n",
    "# optimizer.step()\n",
    "# optimizer.zero_grad()"
   ],
   "metadata": {
    "collapsed": false,
    "pycharm": {
     "name": "#%%\n"
    }
   }
  },
  {
   "cell_type": "markdown",
   "source": [
    "# BACKPROPAGATION\n",
    "\n",
    "chain rule: $\\frac{dz}{dx} = \\frac{dz}{dy} \\cdot \\frac{dy}{dx}$\n",
    "Computational graph: &nbsp; function &nbsp; $\\rightarrow$ &nbsp; local gradients &nbsp; $\\rightarrow$ &nbsp; final gradients (chain rule)\n",
    "e.g. $z = x \\cdot y$ $\\rightarrow$ $\\frac{dz}{dx} = \\frac{dx \\cdot y}{dx} = y$ & $\\frac{dz}{dy} = \\frac{dx \\cdot y}{dy} = x$ &nbsp; $\\rightarrow$  &nbsp; $\\frac{d(loss)}{dx} = \\frac{d(loss)}{dz} \\cdot \\frac{dz}{dx}$\n",
    "Three steps:\n",
    "1. Forward pass: &nbsp; Compute loss\n",
    "2. Compute local gradients\n",
    "3. Backward pass: &nbsp; Compute $\\frac{d(loss)}{d(weights)}$ using chain rule"
   ],
   "metadata": {
    "collapsed": false,
    "pycharm": {
     "name": "#%% md\n"
    }
   }
  },
  {
   "cell_type": "code",
   "execution_count": 58,
   "outputs": [
    {
     "name": "stdout",
     "output_type": "stream",
     "text": [
      "tensor(-2.)\n"
     ]
    }
   ],
   "source": [
    "x = torch.tensor(1.0)\n",
    "y = torch.tensor(2.0)\n",
    "w = torch.tensor(1.0, requires_grad=True)\n",
    "# forward pass and compute the loss\n",
    "y_hat = w * x\n",
    "loss = (y_hat - y) ** 2\n",
    "#backward pass\n",
    "loss.backward()\n",
    "print(w.grad)\n",
    "# update weights and next forward and backward pass"
   ],
   "metadata": {
    "collapsed": false,
    "pycharm": {
     "name": "#%%\n"
    }
   }
  },
  {
   "cell_type": "markdown",
   "source": [
    "# Optimize model with automatic gradient computation using pytorch autograd package\n",
    "1. Prediction &nbsp; $\\rightarrow$ &nbsp; pytorch model\n",
    "2. Gradients computation &nbsp; $\\rightarrow$ &nbsp; Autograd\n",
    "3. loss computation &nbsp; $\\rightarrow$ &nbsp; pytorch loss\n",
    "4. Parameter updates &nbsp; $\\rightarrow$ &nbsp; pytorch optimizer"
   ],
   "metadata": {
    "collapsed": false,
    "pycharm": {
     "name": "#%% md\n"
    }
   }
  },
  {
   "cell_type": "code",
   "execution_count": 66,
   "outputs": [],
   "source": [
    "# Manually linear regression\n",
    "# f = w * x\n",
    "# e.g. f = 2 * x\n",
    "lr = 0.01\n",
    "n_iters = 20\n",
    "# model prediction\n",
    "def forward(x):\n",
    "    return w * x\n",
    "# loss\n",
    "def loss(y, y_pred):\n",
    "    return ((y_pred - y) ** 2).mean()\n",
    "# gradients\n",
    "# MSE = 1/N * (w*x - y) ** 2\n",
    "# dJ/dw = 1/N * 2x * (w*x - y)\n",
    "def gradient(x,y,y_pred):\n",
    "    return np.dot(2*x, y_pred-y).mean()"
   ],
   "metadata": {
    "collapsed": false,
    "pycharm": {
     "name": "#%%\n"
    }
   }
  },
  {
   "cell_type": "code",
   "execution_count": 72,
   "outputs": [
    {
     "name": "stdout",
     "output_type": "stream",
     "text": [
      "Prediction before training: f(5) = 0.000\n",
      "-120.0\n",
      "Epoch: 1, Weights: 1.200, Loss: 30.00000000\n",
      "-48.0\n",
      "-19.200003\n",
      "Epoch: 3, Weights: 1.872, Loss: 0.76800019\n",
      "-7.68\n",
      "-3.0720026\n",
      "Epoch: 5, Weights: 1.980, Loss: 0.01966083\n",
      "-1.2287936\n",
      "-0.49152374\n",
      "Epoch: 7, Weights: 1.997, Loss: 0.00050332\n",
      "-0.1966095\n",
      "-0.07864165\n",
      "Epoch: 9, Weights: 1.999, Loss: 0.00001288\n",
      "-0.031455517\n",
      "-0.012580633\n",
      "Epoch: 11, Weights: 2.000, Loss: 0.00000033\n",
      "-0.0050354004\n",
      "-0.0020105839\n",
      "Epoch: 13, Weights: 2.000, Loss: 0.00000001\n",
      "-0.00080895424\n",
      "-0.00032258034\n",
      "Epoch: 15, Weights: 2.000, Loss: 0.00000000\n",
      "-0.00013017654\n",
      "-4.9352646e-05\n",
      "Epoch: 17, Weights: 2.000, Loss: 0.00000000\n",
      "-2.0742416e-05\n",
      "-7.867813e-06\n",
      "Epoch: 19, Weights: 2.000, Loss: 0.00000000\n",
      "0.0\n"
     ]
    }
   ],
   "source": [
    "x = np.array([1,2,3,4], dtype=np.float32)\n",
    "y = np.array([2,4,6,8], dtype=np.float32)\n",
    "w = 0.0\n",
    "print(f'Prediction before training: f(5) = {forward(5):.3f}')\n",
    "#Training\n",
    "for epoch in range(n_iters):\n",
    "    y_pred = forward(x)     # forward pass\n",
    "    l = loss(y, y_pred)     # loss\n",
    "    dw = gradient(x,y,y_pred)      # gradients\n",
    "    w -= lr * dw    #update weights\n",
    "    if epoch % 2 == 0:\n",
    "        print(f'Epoch: {epoch+1}, Weights: {w:.3f}, Loss: {l:.8f}')"
   ],
   "metadata": {
    "collapsed": false,
    "pycharm": {
     "name": "#%%\n"
    }
   }
  },
  {
   "cell_type": "code",
   "execution_count": 69,
   "outputs": [
    {
     "name": "stdout",
     "output_type": "stream",
     "text": [
      "Prediction before training: f(5) = 0.000\n",
      "Epoch: 1, Weights: 0.300, Loss: 30.00000000\n",
      "Epoch: 11, Weights: 1.665, Loss: 1.16278565\n",
      "Epoch: 21, Weights: 1.934, Loss: 0.04506890\n",
      "Epoch: 31, Weights: 1.987, Loss: 0.00174685\n",
      "Epoch: 41, Weights: 1.997, Loss: 0.00006770\n",
      "Epoch: 51, Weights: 1.999, Loss: 0.00000262\n",
      "Epoch: 61, Weights: 2.000, Loss: 0.00000010\n",
      "Epoch: 71, Weights: 2.000, Loss: 0.00000000\n",
      "Epoch: 81, Weights: 2.000, Loss: 0.00000000\n",
      "Epoch: 91, Weights: 2.000, Loss: 0.00000000\n"
     ]
    }
   ],
   "source": [
    "x = torch.tensor([1,2,3,4], dtype=torch.float32)\n",
    "y = torch.tensor([2,4,6,8], dtype=torch.float32)\n",
    "w = torch.tensor(0.0, requires_grad=True)\n",
    "\n",
    "print(f'Prediction before training: f(5) = {forward(5):.3f}')\n",
    "#Training\n",
    "for epoch in range(100):\n",
    "    y_pred = forward(x)     # forward pass\n",
    "    l = loss(y, y_pred)     # loss\n",
    "    l.backward()     # gradients = backward pass;  dl/dw\n",
    "    with torch.no_grad():\n",
    "        w -= lr * w.grad\n",
    "    w.grad.zero_()    # zero gradients\n",
    "    if epoch % 10 == 0:\n",
    "        print(f'Epoch: {epoch+1}, Weights: {w:.3f}, Loss: {l:.8f}')"
   ],
   "metadata": {
    "collapsed": false,
    "pycharm": {
     "name": "#%%\n"
    }
   }
  },
  {
   "cell_type": "code",
   "execution_count": 78,
   "outputs": [
    {
     "data": {
      "text/plain": "(0, 0)"
     },
     "execution_count": 78,
     "metadata": {},
     "output_type": "execute_result"
    }
   ],
   "source": [],
   "metadata": {
    "collapsed": false,
    "pycharm": {
     "name": "#%%\n"
    }
   }
  }
 ],
 "metadata": {
  "kernelspec": {
   "display_name": "Python 3",
   "language": "python",
   "name": "python3"
  },
  "language_info": {
   "codemirror_mode": {
    "name": "ipython",
    "version": 2
   },
   "file_extension": ".py",
   "mimetype": "text/x-python",
   "name": "python",
   "nbconvert_exporter": "python",
   "pygments_lexer": "ipython2",
   "version": "2.7.6"
  }
 },
 "nbformat": 4,
 "nbformat_minor": 0
}